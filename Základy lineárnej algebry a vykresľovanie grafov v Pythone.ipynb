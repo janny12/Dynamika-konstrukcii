{
 "cells": [
  {
   "cell_type": "markdown",
   "metadata": {},
   "source": [
    "## Začiatky s Numpy\n",
    "\n",
    "Numpy patrí k najpoužívanejším numerickým knižiaciam v Pythone pre riešenie úloh lineárnej algebry. V nasledujúcom texte sa budeme venovať štandardným operáciam s vektormi, maticami a riešenie systému rovníc. Podrobnejšie informácie o možnostiach numpy sa môžete dočítať napríklad na http://www.python-course.eu/numpy.php .\n",
    "\n",
    "V nasledujúcich textoch predstavíme niekoľko zakladných operácií s knižnicou Numpy, ktoré by mal"
   ]
  }
 ],
 "metadata": {
  "kernelspec": {
   "display_name": "Python 3",
   "language": "python",
   "name": "python3"
  },
  "language_info": {
   "codemirror_mode": {
    "name": "ipython",
    "version": 3
   },
   "file_extension": ".py",
   "mimetype": "text/x-python",
   "name": "python",
   "nbconvert_exporter": "python",
   "pygments_lexer": "ipython3",
   "version": "3.5.2"
  }
 },
 "nbformat": 4,
 "nbformat_minor": 2
}
