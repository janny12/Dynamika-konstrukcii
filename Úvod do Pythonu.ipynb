{
 "cells": [
  {
   "cell_type": "markdown",
   "metadata": {},
   "source": [
    "# Python pre inžinierov\n",
    "\n",
    "Python je interpretovaný, interaktívny jazyk, ktorý podporuje objektovo orientované, štrukturálne a aj funkcionálne programovanie. Pre začiatočníka (neprogramátora) ide o výbornú voľbu, keďže Python vďaka svojej jednudochosti a rýchlosti zápisu, získava čoraz vyššiu popularitu medzi programátorskou a inžinierskou komunitou. \n",
    "\n",
    "Bližšie informácie ohľadom jazyka Python je možné získať na nasledujúcich linkoch: \n",
    "\n",
    "https://sk.wikipedia.org/wiki/Python_(programovac%C3%AD_jazyk)\n",
    "\n",
    "https://python.cz/\n",
    "\n",
    "http://howto.py.cz/index.htm\n",
    "\n",
    "https://learnpythonthehardway.org/"
   ]
  },
  {
   "cell_type": "markdown",
   "metadata": {},
   "source": [
    "## Inštalácia Pythonu\n",
    "\n",
    "Samotná inštalácia je jednoduchá. Na domovskej stránke https://www.python.org/ je možnosť downloadu aktuálnej verzie jazyka Python pre Linux, Windows (64 bit, 32 bit) alebo Mac. \n",
    "\n",
    "Najvýznamnejším výberom pri sťahovaní je výber Python 2.xy alebo Python 3.xy. Rozdieli medzi verziami sú v syntaxe ale aj v samotnej štruktúre jazyka. Pre naše účely odporúčame stiahnuť verziu **Python 3.x**."
   ]
  },
  {
   "cell_type": "markdown",
   "metadata": {},
   "source": [
    "## Inštalácia Anacondy\n",
    "\n",
    "V inžinierskej praxi potrebujeme silnejší a efektívnejší nástroj ako len programovací jazyk. Je potrebný systém, vďaka ktorému je jednoduché vzdielanie a analyzovanie nových poznatkov, dát a algoritmov. Z tohto dôvodu sa pozornosť inžinierov sústreďuje na systémy ako MatLab, Octave alebo Mathematica. V jazyku Python existuje riešenie fo forme balíka voľne šíriteľných matematických knižních (Numpy, Scipy, Matplotlib ...) s názvom Anaconda.\n",
    "\n",
    "Anaconda disponuje rozsiahlimi možnosťmi pri spracovaní dát, signal processingu, image processingu, kreslení 2D alebo 3D grafov atď. Jeho výhodou je hlavne open-source platforma a intuitívna syntax akou disponuje napríklad MatLab.\n",
    "\n",
    "Inštalácia je jednoduchá, stačí si priamo z linku https://www.continuum.io/downloads stiahnuť inštalačný balík pre Windows, Linux alebo Mac a následne sa držať štandardných pokynov.\n"
   ]
  },
  {
   "cell_type": "markdown",
   "metadata": {},
   "source": [
    "## Inštalácia interpretera\n",
    "\n",
    "Existuje viacero spôsobov ako pracovať s jazykom Python. Pre rýchly test je možné používať príkacový riadok windowsu *cmd*, stačí napísať príkaz *python* a začať programovať. Ďalšou alternatívou je Python shell *IDLE*, ktorý je tiež vhodnou alternatívou pre rýchle testy alebo malé jednoúčelové aplikácie. Pre objektovo orientované programy a rozsiahlejšie projekty je vhodný programovací software ako je napríklad **PyCharm** od spoločnosti JetBrains.\n",
    "\n",
    "Štandrardnú inštaláciu si môžete stiahnuť z domovskej stránky softwaru https://www.jetbrains.com/pycharm/ ."
   ]
  }
 ],
 "metadata": {
  "kernelspec": {
   "display_name": "Python 3",
   "language": "python",
   "name": "python3"
  },
  "language_info": {
   "codemirror_mode": {
    "name": "ipython",
    "version": 3
   },
   "file_extension": ".py",
   "mimetype": "text/x-python",
   "name": "python",
   "nbconvert_exporter": "python",
   "pygments_lexer": "ipython3",
   "version": "3.5.2"
  }
 },
 "nbformat": 4,
 "nbformat_minor": 2
}
